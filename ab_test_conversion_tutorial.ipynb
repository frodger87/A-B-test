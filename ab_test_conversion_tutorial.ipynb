{
 "cells": [
  {
   "cell_type": "code",
   "execution_count": 37,
   "id": "b3d57191",
   "metadata": {},
   "outputs": [],
   "source": [
    "import pandas as pd\n",
    "import numpy as np"
   ]
  },
  {
   "cell_type": "markdown",
   "id": "5cd05f99",
   "metadata": {},
   "source": [
    "Исходные данные "
   ]
  },
  {
   "cell_type": "markdown",
   "id": "711a33d3",
   "metadata": {},
   "source": [
    "уровень значимости (вероятность ошибки 1-го рода, т.е. отвергнуть Н0 когда она верна)"
   ]
  },
  {
   "cell_type": "code",
   "execution_count": 39,
   "id": "5e375a9a",
   "metadata": {},
   "outputs": [],
   "source": [
    "alpha = 0.05"
   ]
  },
  {
   "cell_type": "markdown",
   "id": "eda75174",
   "metadata": {},
   "source": [
    "мощность (вероятность ошибки при отклонении альтернативной гипотезы — по умолчанию, в научных работах используется 80%: это означает, что в 1 из 5 случаев мы не найдем разницы, если она, на самом деле, существует))"
   ]
  },
  {
   "cell_type": "code",
   "execution_count": 40,
   "id": "7b29d3d8",
   "metadata": {},
   "outputs": [],
   "source": [
    "n = 0.8"
   ]
  },
  {
   "cell_type": "markdown",
   "id": "de0bea49",
   "metadata": {},
   "source": [
    "текущее значение конверсии"
   ]
  },
  {
   "cell_type": "code",
   "execution_count": 41,
   "id": "070fc87a",
   "metadata": {},
   "outputs": [],
   "source": [
    "current_conversion = 0.2"
   ]
  },
  {
   "cell_type": "markdown",
   "id": "3e8889f1",
   "metadata": {},
   "source": [
    "желаемый эффект"
   ]
  },
  {
   "cell_type": "code",
   "execution_count": 42,
   "id": "a6be98d7",
   "metadata": {},
   "outputs": [],
   "source": [
    "mde = 0.05"
   ]
  },
  {
   "cell_type": "markdown",
   "id": "77587184",
   "metadata": {},
   "source": [
    "Посчитаем минимальный размер выборки"
   ]
  },
  {
   "cell_type": "code",
   "execution_count": 33,
   "id": "4ad6ffd1",
   "metadata": {},
   "outputs": [],
   "source": [
    "#табличное значение для мощности 80%, 85%, 90%, 95%\n",
    "zb_08 = 0.84\n",
    "zb_085 = 1.04\n",
    "zb_09 = 1.28\n",
    "zb_095 = 1.64\n",
    "\n",
    "#табличное значение для уровня значимости в 5%, 1% односторонняя гипотеза \n",
    "za1_005 = 1.65\n",
    "za1_001 = 2.33\n",
    "\n",
    "#табличное значение для уровня значимости в 5%, 1% двухсторонняя гипотеза\n",
    "za2_005 = 1.96\n",
    "za2_001 = 2.58"
   ]
  },
  {
   "cell_type": "code",
   "execution_count": 38,
   "id": "bf5ddb24",
   "metadata": {
    "scrolled": true
   },
   "outputs": [
    {
     "name": "stdout",
     "output_type": "stream",
     "text": [
      "Минимальный размер одной группы: 1004\n"
     ]
    }
   ],
   "source": [
    "sample_size = round((2*((za2_005 + zb)**2)*current_conversion*(1 - current_conversion))/mde**2)\n",
    "print(\"Минимальный размер одной группы:\", sample_size)"
   ]
  },
  {
   "cell_type": "markdown",
   "id": "ba8805b9",
   "metadata": {},
   "source": [
    "Смоделируем выборки  \n",
    "a - выборка на продукте без изменений   \n",
    "b - выборка на продукте с изменениями (предположим, что желаемый эффект достигнут)  "
   ]
  },
  {
   "cell_type": "code",
   "execution_count": 43,
   "id": "d043e6aa",
   "metadata": {},
   "outputs": [],
   "source": [
    "a = np.random.binomial(1, current_conversion, size=sample_size)\n",
    "\n",
    "b = np.random.binomial(1, current_conversion + mde, size=sample_size)"
   ]
  },
  {
   "cell_type": "markdown",
   "id": "cb714739",
   "metadata": {},
   "source": [
    "Посмотрим на размеры конверсий "
   ]
  },
  {
   "cell_type": "code",
   "execution_count": 62,
   "id": "c45bf47b",
   "metadata": {},
   "outputs": [
    {
     "name": "stdout",
     "output_type": "stream",
     "text": [
      "Конверсия в выборке А составила: 0.21\n"
     ]
    }
   ],
   "source": [
    "conversion_a = a.mean()\n",
    "print(\"Конверсия в выборке А составила: {:.2f}\".format(conversion_a))"
   ]
  },
  {
   "cell_type": "code",
   "execution_count": 63,
   "id": "59ecb9ee",
   "metadata": {},
   "outputs": [
    {
     "name": "stdout",
     "output_type": "stream",
     "text": [
      "Конверсия в выборке B составила: 0.26\n"
     ]
    }
   ],
   "source": [
    "conversion_b = b.mean()\n",
    "print(\"Конверсия в выборке B составила: {:.2f}\".format(conversion_b))"
   ]
  },
  {
   "cell_type": "markdown",
   "id": "252a758c",
   "metadata": {},
   "source": [
    "Для оценки стат. значимости используем z-test (Chi-square)"
   ]
  },
  {
   "cell_type": "code",
   "execution_count": 56,
   "id": "8a71e41d",
   "metadata": {},
   "outputs": [],
   "source": [
    "from statsmodels.stats.proportion import proportions_ztest"
   ]
  },
  {
   "cell_type": "code",
   "execution_count": 60,
   "id": "01f7bc90",
   "metadata": {},
   "outputs": [],
   "source": [
    "pvalue = proportions_ztest([a.sum(), b.sum()], [len(a), len(b)])"
   ]
  },
  {
   "cell_type": "code",
   "execution_count": 64,
   "id": "8f24fe99",
   "metadata": {},
   "outputs": [
    {
     "name": "stdout",
     "output_type": "stream",
     "text": [
      "Значение p_value: 0.013\n"
     ]
    }
   ],
   "source": [
    "print(\"Значение p_value: {:.3f}\".format(pvalue[1]))"
   ]
  },
  {
   "cell_type": "markdown",
   "id": "4f823a18",
   "metadata": {},
   "source": [
    "Получив такое значение p-value можно отклонить Н0. Т.е. подтвердить, что конверсии различаются стат. значимо. (Что логично т.к. мы искуственно создали прирост в 5%)"
   ]
  },
  {
   "cell_type": "markdown",
   "id": "461cbd32",
   "metadata": {},
   "source": [
    "## Bootstrap"
   ]
  },
  {
   "cell_type": "markdown",
   "id": "b353d2dc",
   "metadata": {},
   "source": [
    "Смоделируем проведение нашего эксперимента 10000 раз"
   ]
  },
  {
   "cell_type": "code",
   "execution_count": 90,
   "id": "60e559b2",
   "metadata": {},
   "outputs": [],
   "source": [
    "pvalue_lst = []\n",
    "\n",
    "for i in range(10000):\n",
    "    a = np.random.binomial(1, current_conversion, size=sample_size)\n",
    "    b = np.random.binomial(1, current_conversion + mde, size=sample_size)\n",
    "    pvalue = proportions_ztest([a.sum(), b.sum()], [len(a), len(b)])\n",
    "    pvalue_lst.append(pvalue[1])"
   ]
  },
  {
   "cell_type": "code",
   "execution_count": 91,
   "id": "407364f5",
   "metadata": {},
   "outputs": [],
   "source": [
    "_ = (pd.Series(pvalue_lst) < 0.05).mean()"
   ]
  },
  {
   "cell_type": "code",
   "execution_count": 92,
   "id": "4d128b41",
   "metadata": {},
   "outputs": [
    {
     "name": "stdout",
     "output_type": "stream",
     "text": [
      "В 76.93% случаях мы получили стат. значимое различие конверсий\n"
     ]
    }
   ],
   "source": [
    "print(\"В {:.2%} случаях мы получили стат. значимое различие конверсий\".format(_))"
   ]
  },
  {
   "cell_type": "markdown",
   "id": "b0313aa7",
   "metadata": {},
   "source": [
    "Несмотря на то, что мы точно знаем, что конверсия в группе B отличается на необходимую нам величину (т.к. выборки создаются искусственно). При проведении теста 10000 раз, выявились стат.значимые различия в 77% случаев (что приблизительно соответствует заданной мощности в 80%, для более точного схождения необходимо провести больше экспериментов)"
   ]
  },
  {
   "cell_type": "markdown",
   "id": "aaf1b8b0",
   "metadata": {},
   "source": [
    " "
   ]
  },
  {
   "cell_type": "markdown",
   "id": "5e82da3b",
   "metadata": {},
   "source": [
    "Проверим, подходит ли Z-test для сравнения конверсий  \n",
    "Для этого проведем АА тест 10000 раз."
   ]
  },
  {
   "cell_type": "code",
   "execution_count": 85,
   "id": "6a763f2d",
   "metadata": {},
   "outputs": [],
   "source": [
    "pvalue_lst = []\n",
    "\n",
    "for i in range(10000):\n",
    "    a = np.random.binomial(1, current_conversion, size=sample_size)\n",
    "    b = np.random.binomial(1, current_conversion, size=sample_size)\n",
    "    i, pvalue = proportions_ztest([a.sum(), b.sum()], [len(a), len(b)])\n",
    "    pvalue_lst.append(pvalue)"
   ]
  },
  {
   "cell_type": "code",
   "execution_count": 88,
   "id": "c6d63ce5",
   "metadata": {},
   "outputs": [
    {
     "data": {
      "text/plain": [
       "0.0515"
      ]
     },
     "execution_count": 88,
     "metadata": {},
     "output_type": "execute_result"
    }
   ],
   "source": [
    "_ = (pd.Series(pvalue_lst) < 0.05).mean()"
   ]
  },
  {
   "cell_type": "markdown",
   "id": "2322b261",
   "metadata": {},
   "source": [
    "Видим, что приблизительно в 5% случаев мы отклоняем Н0, хотя конверсии фактически не отличаются. Можно сделалть вывод, что можно использовать Z-test для проверки стат. значимого отличия конверсий. Т.к. полученный уровень значимости совпадает с тем, что мы задали изначально"
   ]
  },
  {
   "cell_type": "code",
   "execution_count": null,
   "id": "ffa9d336",
   "metadata": {},
   "outputs": [],
   "source": []
  }
 ],
 "metadata": {
  "kernelspec": {
   "display_name": "Python 3 (ipykernel)",
   "language": "python",
   "name": "python3"
  },
  "language_info": {
   "codemirror_mode": {
    "name": "ipython",
    "version": 3
   },
   "file_extension": ".py",
   "mimetype": "text/x-python",
   "name": "python",
   "nbconvert_exporter": "python",
   "pygments_lexer": "ipython3",
   "version": "3.8.10"
  }
 },
 "nbformat": 4,
 "nbformat_minor": 5
}
